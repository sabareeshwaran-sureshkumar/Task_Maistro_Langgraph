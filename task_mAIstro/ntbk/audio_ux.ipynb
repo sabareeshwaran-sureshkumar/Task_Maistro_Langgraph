{
 "cells": [
  {
   "cell_type": "markdown",
   "id": "b4cd66e8",
   "metadata": {},
   "source": [
    "# Audio UX\n",
    "\n",
    "Task mAIstro supports voice interactions using:\n",
    "- [OpenAI's Whisper](https://platform.openai.com/docs/guides/speech-to-text) for speech-to-text\n",
    "- [ElevenLabs](https://github.com/elevenlabs/elevenlabs-python) for text-to-speech\n",
    "\n",
    "### Install dependencies\n",
    "\n",
    "Ensure you have `ffmpeg` installed for using ElevenLabs. \n",
    "\n",
    "On MacOS, you can install it with `brew install ffmpeg`. "
   ]
  },
  {
   "cell_type": "code",
   "execution_count": 16,
   "id": "d1fd88e4",
   "metadata": {},
   "outputs": [],
   "source": [
    "%%capture --no-stderr\n",
    "%pip install -U langchain_openai langgraph langchain_core sounddevice scipy elevenlabs "
   ]
  },
  {
   "cell_type": "markdown",
   "id": "44b724c3",
   "metadata": {},
   "source": [
    "### Set environment variables\n",
    "\n",
    "* Set your `OPENAI_API_KEY`\n",
    "* Set your `ELEVENLABS_API_KEY` (available [here](https://elevenlabs.io/api))\n",
    "* Optional: Set your `LANGCHAIN_API_KEY` (available [here](https://smith.langchain.com/)) if you want tracing or want to connect with a hosted deployment."
   ]
  },
  {
   "cell_type": "code",
   "execution_count": 19,
   "id": "c7311ebb",
   "metadata": {},
   "outputs": [],
   "source": [
    "import os, getpass\n",
    "from dotenv import load_dotenv\n",
    "load_dotenv()\n",
    "langchain_api_key = os.getenv(\"LANGCHAIN_API_KEY\")\n",
    "elevenlabs_api_key = os.getenv(\"ELEVENLABS_API_KEY\")\n",
    "openai_api_key = os.getenv(\"OPENAI_API_KEY\")\n",
    "# def _set_env(var: str):\n",
    "#     # Check if the variable is set in the OS environment\n",
    "#     env_value = os.environ.get(var)\n",
    "#     if not env_value:\n",
    "#         # If not set, prompt the user for input\n",
    "#         env_value = getpass.getpass(f\"{var}: \")\n",
    "    \n",
    "#     # Set the environment variable for the current process\n",
    "#     os.environ[var] = env_value\n",
    "\n",
    "# _set_env(\"LANGCHAIN_API_KEY\")\n",
    "# _set_env(\"ELEVENLABS_API_KEY\")\n",
    "# _set_env(\"OPENAI_API_KEY\")\n",
    "\n",
    "import os\n",
    "os.environ[\"LANGCHAIN_TRACING_V2\"] = \"true\"\n",
    "os.environ[\"LANGCHAIN_PROJECT\"] = \"task-maistro-deployment\""
   ]
  },
  {
   "cell_type": "markdown",
   "id": "45f5e99c-9c95-4ec9-a879-45cb80c76179",
   "metadata": {},
   "source": [
    "### Connect to your deployment\n",
    "\n",
    "Connect to your deployment using the URL endpoint:\n",
    "- **Studio**: Found in Studio UI \n",
    "- **CLI**: Printed to console (typically `http://localhost:8123`)\n",
    "- **Cloud**: Available in LangGraph Deployment page\n",
    "\n",
    "We'll connect to the deployment as a [RemoteGraph](https://langchain-ai.github.io/langgraph/how-tos/use-remote-graph/#how-to-interact-with-the-deployment-using-remotegraph). \n"
   ]
  },
  {
   "cell_type": "code",
   "execution_count": 20,
   "id": "b2bdfbed-694a-4dbc-8ddf-e2649ec28181",
   "metadata": {},
   "outputs": [],
   "source": [
    "from langgraph.pregel.remote import RemoteGraph\n",
    "from langchain_core.messages import convert_to_messages\n",
    "from langchain_core.messages import HumanMessage, SystemMessage\n",
    "\n",
    "# Local deployment\n",
    "local_deployment_url = \"http://localhost:8123\"\n",
    "\n",
    "# Deployment URL\n",
    "cloud_deployment_url = \"https://task-maistro-1b681add7a2b549499bb0cd21a7e5be4.default.us.langgraph.app\"\n",
    "\n",
    "# Graph name\n",
    "graph_name = \"task_maistro\" \n",
    "\n",
    "# Connect to the deployment\n",
    "remote_graph = RemoteGraph(graph_name, url=local_deployment_url)"
   ]
  },
  {
   "cell_type": "markdown",
   "id": "1770e138",
   "metadata": {},
   "source": [
    "You can test your deployment by running the following. "
   ]
  },
  {
   "cell_type": "code",
   "execution_count": 21,
   "id": "62c16a2c",
   "metadata": {},
   "outputs": [
    {
     "name": "stdout",
     "output_type": "stream",
     "text": [
      "================================\u001b[1m Human Message \u001b[0m=================================\n",
      "\n",
      "Hi I'm Lance. I live in San Francisco with my wife and have a 1 year old.\n",
      "==================================\u001b[1m Ai Message \u001b[0m==================================\n",
      "Tool Calls:\n",
      "  UpdateMemory (call_mCJ6OcAoWPXMUlFzkvcaUEHl)\n",
      " Call ID: call_mCJ6OcAoWPXMUlFzkvcaUEHl\n",
      "  Args:\n",
      "    update_type: user\n",
      "=================================\u001b[1m Tool Message \u001b[0m=================================\n",
      "\n",
      "updated profile\n",
      "==================================\u001b[1m Ai Message \u001b[0m==================================\n",
      "\n",
      "Got it, Lance! I've updated your profile with the information about where you live and your family. How can I assist you today?\n"
     ]
    }
   ],
   "source": [
    "# Int\n",
    "user_input = \"Hi I'm Lance. I live in San Francisco with my wife and have a 1 year old.\"\n",
    "config = {\"configurable\": {\"user_id\": \"Test-Deployment-User\"}}\n",
    "for chunk in remote_graph.stream({\"messages\": [HumanMessage(content=user_input)]}, stream_mode=\"values\", config=config):\n",
    "    convert_to_messages(chunk[\"messages\"])[-1].pretty_print()"
   ]
  },
  {
   "cell_type": "markdown",
   "id": "1169896f",
   "metadata": {},
   "source": [
    "### Add audio\n",
    "\n",
    "Our deployed graph has some benefits: \n",
    "* It has built-in support for long-term memory \n",
    "* It implements all the logic for task mAIstro \n",
    "\n",
    "But, we have a challenge:\n",
    "* It takes test as input and returns text as output\n",
    "\n",
    "We need to add audio input and output to the graph. So, we'll simply add two nodes to our graph:\n",
    "\n",
    "1. **Audio Input Node**\n",
    "   * Records microphone input (stop with Enter)\n",
    "   * Transcribes speech using Whisper\n",
    "   * Passes text to Task mAIstro\n",
    "\n",
    "2. **Audio Output Node**\n",
    "   * Takes Task mAIstro's text response\n",
    "   * Converts to speech via ElevenLabs\n",
    "   * Plays audio response\n",
    "\n",
    "We can achieve this by embedding our deployed graph [as a node](https://langchain-ai.github.io/langgraph/how-tos/use-remote-graph/#using-as-a-subgraph) in a new graph. "
   ]
  },
  {
   "cell_type": "code",
   "execution_count": 27,
   "id": "a75a8123",
   "metadata": {},
   "outputs": [
    {
     "data": {
      "image/png": "[encoded data removed]",
      "text/plain": [
       "<IPython.core.display.Image object>"
      ]
     },
     "metadata": {},
     "output_type": "display_data"
    }
   ],
   "source": [
    "import os\n",
    "from IPython.display import Image, display\n",
    "from openai import OpenAI\n",
    "from langgraph.graph import StateGraph, MessagesState, END, START\n",
    "from langchain.schema import HumanMessage\n",
    "\n",
    "# Initialize OpenAI client\n",
    "openai_client = OpenAI()\n",
    "\n",
    "def get_user_input(state: MessagesState):\n",
    "    \"\"\"Prompts the user to input text instead of recording audio.\"\"\"\n",
    "    user_input = input(\"Please enter your instruction: \")\n",
    "    \n",
    "    # Return user input as a message\n",
    "    return {\"messages\": [HumanMessage(content=user_input)]}\n",
    "\n",
    "def display_response(state: MessagesState):\n",
    "    \"\"\"Displays the text response from the graph.\"\"\"\n",
    "    response = state[\"messages\"][-1]\n",
    "    print(\"Response from the system:\", response.content)\n",
    "\n",
    "# Define the graph\n",
    "builder = StateGraph(MessagesState)\n",
    "\n",
    "# Add nodes for text input and response display\n",
    "builder.add_node(\"text_input\", get_user_input)\n",
    "builder.add_node(\"todo_app\", remote_graph)  # Assuming `remote_graph` is defined elsewhere\n",
    "builder.add_node(\"text_output\", display_response)\n",
    "builder.add_edge(START, \"text_input\")\n",
    "builder.add_edge(\"text_input\", \"todo_app\")\n",
    "builder.add_edge(\"todo_app\", \"text_output\")\n",
    "builder.add_edge(\"text_output\", END)\n",
    "\n",
    "# Compile the graph\n",
    "graph = builder.compile()\n",
    "\n",
    "# Display the graph structure\n",
    "display(Image(graph.get_graph(xray=1).draw_mermaid_png()))\n"
   ]
  },
  {
   "cell_type": "markdown",
   "id": "d5b16223",
   "metadata": {},
   "source": [
    "Optionally, you can supply a thread ID to ensure that conversation history is persisted. "
   ]
  },
  {
   "cell_type": "code",
   "execution_count": 28,
   "id": "1b7277b5",
   "metadata": {},
   "outputs": [],
   "source": [
    "import uuid\n",
    "thread_id = str(uuid.uuid4())"
   ]
  },
  {
   "cell_type": "code",
   "execution_count": 30,
   "id": "5f65bd31",
   "metadata": {},
   "outputs": [
    {
     "name": "stdout",
     "output_type": "stream",
     "text": [
      "================================\u001b[1m Human Message \u001b[0m=================================\n",
      "\n",
      "\n",
      "================================\u001b[1m Human Message \u001b[0m=================================\n",
      "\n",
      "add a todo to throw my garbage\n",
      "==================================\u001b[1m Ai Message \u001b[0m==================================\n",
      "\n",
      "I have added the task to throw your garbage to your ToDo list.\n",
      "Response from the system: I have added the task to throw your garbage to your ToDo list.\n"
     ]
    }
   ],
   "source": [
    "# Set user ID for storing memories\n",
    "config = {\"configurable\": {\"user_id\": \"Test-Text-UX\", \"thread_id\": thread_id}}\n",
    "\n",
    "# Prompt the user for text input\n",
    "user_input = input(\"Please enter your instruction: \")\n",
    "\n",
    "# Kick off the graph with the user's text input\n",
    "for chunk in graph.stream({\"messages\": [HumanMessage(content=user_input)]}, stream_mode=\"values\", config=config):\n",
    "    # Print the last message in the response\n",
    "    chunk[\"messages\"][-1].pretty_print()\n"
   ]
  },
  {
   "cell_type": "markdown",
   "id": "297defe6",
   "metadata": {},
   "source": [
    "Simply, run this cell and speak into your microphone. When you are finished, press Enter."
   ]
  },
  {
   "cell_type": "code",
   "execution_count": null,
   "id": "2e5532fe",
   "metadata": {},
   "outputs": [],
   "source": []
  }
 ],
 "metadata": {
  "kernelspec": {
   "display_name": "base",
   "language": "python",
   "name": "python3"
  },
  "language_info": {
   "codemirror_mode": {
    "name": "ipython",
    "version": 3
   },
   "file_extension": ".py",
   "mimetype": "text/x-python",
   "name": "python",
   "nbconvert_exporter": "python",
   "pygments_lexer": "ipython3",
   "version": "3.11.5"
  }
 },
 "nbformat": 4,
 "nbformat_minor": 5
}
